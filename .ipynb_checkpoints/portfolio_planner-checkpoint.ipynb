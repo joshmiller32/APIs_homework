{
 "cells": [
  {
   "cell_type": "code",
   "execution_count": 1,
   "metadata": {},
   "outputs": [],
   "source": [
    "import numpy as np\n",
    "import pandas as pd\n",
    "from datetime import datetime, timedelta\n",
    "import matplotlib.pyplot as plt\n",
    "%matplotlib inline"
   ]
  },
  {
   "cell_type": "code",
   "execution_count": 2,
   "metadata": {},
   "outputs": [],
   "source": [
    "np.random.seed(42)"
   ]
  },
  {
   "cell_type": "markdown",
   "metadata": {},
   "source": [
    "# Portfolio Planner\n",
    "\n",
    "In this activity, you will use the iedfinance api to grab historical data for a 60/40 portfolio using `SPY` to represent the stock portion and `AGG` to represent the bonds."
   ]
  },
  {
   "cell_type": "code",
   "execution_count": 3,
   "metadata": {},
   "outputs": [],
   "source": [
    "from iexfinance.stocks import get_historical_data\n",
    "import iexfinance as iex"
   ]
  },
  {
   "cell_type": "markdown",
   "metadata": {},
   "source": [
    "# Data Collection\n",
    "\n",
    "In this step, you will need to use the IEX api to fetch closing prices for the `SPY` and `AGG` tickers. Save the results as a pandas DataFrame"
   ]
  },
  {
   "cell_type": "code",
   "execution_count": 7,
   "metadata": {},
   "outputs": [
    {
     "data": {
      "text/html": [
       "<div>\n",
       "<style scoped>\n",
       "    .dataframe tbody tr th:only-of-type {\n",
       "        vertical-align: middle;\n",
       "    }\n",
       "\n",
       "    .dataframe tbody tr th {\n",
       "        vertical-align: top;\n",
       "    }\n",
       "\n",
       "    .dataframe thead tr th {\n",
       "        text-align: left;\n",
       "    }\n",
       "\n",
       "    .dataframe thead tr:last-of-type th {\n",
       "        text-align: right;\n",
       "    }\n",
       "</style>\n",
       "<table border=\"1\" class=\"dataframe\">\n",
       "  <thead>\n",
       "    <tr>\n",
       "      <th></th>\n",
       "      <th colspan=\"5\" halign=\"left\">SPY</th>\n",
       "      <th colspan=\"5\" halign=\"left\">AGG</th>\n",
       "    </tr>\n",
       "    <tr>\n",
       "      <th></th>\n",
       "      <th>open</th>\n",
       "      <th>high</th>\n",
       "      <th>low</th>\n",
       "      <th>close</th>\n",
       "      <th>volume</th>\n",
       "      <th>open</th>\n",
       "      <th>high</th>\n",
       "      <th>low</th>\n",
       "      <th>close</th>\n",
       "      <th>volume</th>\n",
       "    </tr>\n",
       "    <tr>\n",
       "      <th>date</th>\n",
       "      <th></th>\n",
       "      <th></th>\n",
       "      <th></th>\n",
       "      <th></th>\n",
       "      <th></th>\n",
       "      <th></th>\n",
       "      <th></th>\n",
       "      <th></th>\n",
       "      <th></th>\n",
       "      <th></th>\n",
       "    </tr>\n",
       "  </thead>\n",
       "  <tbody>\n",
       "    <tr>\n",
       "      <th>2014-08-27</th>\n",
       "      <td>200.43</td>\n",
       "      <td>200.57</td>\n",
       "      <td>199.94</td>\n",
       "      <td>200.25</td>\n",
       "      <td>47873708</td>\n",
       "      <td>109.73</td>\n",
       "      <td>109.85</td>\n",
       "      <td>109.70</td>\n",
       "      <td>109.80</td>\n",
       "      <td>866103</td>\n",
       "    </tr>\n",
       "    <tr>\n",
       "      <th>2014-08-28</th>\n",
       "      <td>199.59</td>\n",
       "      <td>200.27</td>\n",
       "      <td>199.39</td>\n",
       "      <td>200.14</td>\n",
       "      <td>58330373</td>\n",
       "      <td>109.96</td>\n",
       "      <td>110.05</td>\n",
       "      <td>109.89</td>\n",
       "      <td>110.02</td>\n",
       "      <td>1123701</td>\n",
       "    </tr>\n",
       "    <tr>\n",
       "      <th>2014-08-29</th>\n",
       "      <td>200.45</td>\n",
       "      <td>200.73</td>\n",
       "      <td>199.82</td>\n",
       "      <td>200.71</td>\n",
       "      <td>65906598</td>\n",
       "      <td>110.00</td>\n",
       "      <td>110.09</td>\n",
       "      <td>109.94</td>\n",
       "      <td>109.98</td>\n",
       "      <td>1473300</td>\n",
       "    </tr>\n",
       "    <tr>\n",
       "      <th>2014-09-02</th>\n",
       "      <td>200.97</td>\n",
       "      <td>201.00</td>\n",
       "      <td>199.86</td>\n",
       "      <td>200.61</td>\n",
       "      <td>72425793</td>\n",
       "      <td>109.55</td>\n",
       "      <td>109.63</td>\n",
       "      <td>109.45</td>\n",
       "      <td>109.45</td>\n",
       "      <td>1029287</td>\n",
       "    </tr>\n",
       "    <tr>\n",
       "      <th>2014-09-03</th>\n",
       "      <td>201.38</td>\n",
       "      <td>201.41</td>\n",
       "      <td>200.22</td>\n",
       "      <td>200.50</td>\n",
       "      <td>57461742</td>\n",
       "      <td>109.39</td>\n",
       "      <td>109.58</td>\n",
       "      <td>109.37</td>\n",
       "      <td>109.57</td>\n",
       "      <td>1311668</td>\n",
       "    </tr>\n",
       "  </tbody>\n",
       "</table>\n",
       "</div>"
      ],
      "text/plain": [
       "               SPY                                       AGG                  \\\n",
       "              open    high     low   close    volume    open    high     low   \n",
       "date                                                                           \n",
       "2014-08-27  200.43  200.57  199.94  200.25  47873708  109.73  109.85  109.70   \n",
       "2014-08-28  199.59  200.27  199.39  200.14  58330373  109.96  110.05  109.89   \n",
       "2014-08-29  200.45  200.73  199.82  200.71  65906598  110.00  110.09  109.94   \n",
       "2014-09-02  200.97  201.00  199.86  200.61  72425793  109.55  109.63  109.45   \n",
       "2014-09-03  201.38  201.41  200.22  200.50  57461742  109.39  109.58  109.37   \n",
       "\n",
       "                             \n",
       "             close   volume  \n",
       "date                         \n",
       "2014-08-27  109.80   866103  \n",
       "2014-08-28  110.02  1123701  \n",
       "2014-08-29  109.98  1473300  \n",
       "2014-09-02  109.45  1029287  \n",
       "2014-09-03  109.57  1311668  "
      ]
     },
     "execution_count": 7,
     "metadata": {},
     "output_type": "execute_result"
    }
   ],
   "source": [
    "tickers = [\"SPY\", \"AGG\"]\n",
    "end_date = datetime.now()\n",
    "start_date = end_date + timedelta(-1825)\n",
    "df = get_historical_data(tickers, start_date, end_date, output_format='pandas')\n",
    "df.head()"
   ]
  },
  {
   "cell_type": "code",
   "execution_count": 8,
   "metadata": {},
   "outputs": [
    {
     "data": {
      "text/html": [
       "<div>\n",
       "<style scoped>\n",
       "    .dataframe tbody tr th:only-of-type {\n",
       "        vertical-align: middle;\n",
       "    }\n",
       "\n",
       "    .dataframe tbody tr th {\n",
       "        vertical-align: top;\n",
       "    }\n",
       "\n",
       "    .dataframe thead tr th {\n",
       "        text-align: left;\n",
       "    }\n",
       "\n",
       "    .dataframe thead tr:last-of-type th {\n",
       "        text-align: right;\n",
       "    }\n",
       "</style>\n",
       "<table border=\"1\" class=\"dataframe\">\n",
       "  <thead>\n",
       "    <tr>\n",
       "      <th></th>\n",
       "      <th>SPY</th>\n",
       "      <th>AGG</th>\n",
       "    </tr>\n",
       "    <tr>\n",
       "      <th></th>\n",
       "      <th>close</th>\n",
       "      <th>close</th>\n",
       "    </tr>\n",
       "    <tr>\n",
       "      <th>date</th>\n",
       "      <th></th>\n",
       "      <th></th>\n",
       "    </tr>\n",
       "  </thead>\n",
       "  <tbody>\n",
       "    <tr>\n",
       "      <th>2014-08-27</th>\n",
       "      <td>200.25</td>\n",
       "      <td>109.80</td>\n",
       "    </tr>\n",
       "    <tr>\n",
       "      <th>2014-08-28</th>\n",
       "      <td>200.14</td>\n",
       "      <td>110.02</td>\n",
       "    </tr>\n",
       "    <tr>\n",
       "      <th>2014-08-29</th>\n",
       "      <td>200.71</td>\n",
       "      <td>109.98</td>\n",
       "    </tr>\n",
       "    <tr>\n",
       "      <th>2014-09-02</th>\n",
       "      <td>200.61</td>\n",
       "      <td>109.45</td>\n",
       "    </tr>\n",
       "    <tr>\n",
       "      <th>2014-09-03</th>\n",
       "      <td>200.50</td>\n",
       "      <td>109.57</td>\n",
       "    </tr>\n",
       "  </tbody>\n",
       "</table>\n",
       "</div>"
      ],
      "text/plain": [
       "               SPY     AGG\n",
       "             close   close\n",
       "date                      \n",
       "2014-08-27  200.25  109.80\n",
       "2014-08-28  200.14  110.02\n",
       "2014-08-29  200.71  109.98\n",
       "2014-09-02  200.61  109.45\n",
       "2014-09-03  200.50  109.57"
      ]
     },
     "execution_count": 8,
     "metadata": {},
     "output_type": "execute_result"
    }
   ],
   "source": [
    "# Drop extraneous columns\n",
    "df.drop(columns = ['open', 'high', 'low', 'volume'], level = 1, inplace = True)\n",
    "df.head()"
   ]
  },
  {
   "cell_type": "markdown",
   "metadata": {},
   "source": [
    "# Monte Carlo Simulation\n",
    "\n",
    "In this step, you will run Monte Carlo Simulations for your portfolio to model portfolio performance at different retirement ages. \n",
    "\n",
    "Complete the following steps:\n",
    "1. Calculate the daily returns for the SPY and AGG closing prices.\n",
    "2. Calculate volatility for both the SPY and AGG closing prices.\n",
    "3. Find the last day's closing price for both stocks and save those as variables.\n",
    "4. Run a Monte Carlo Simulation of at least 100 iterations and generate at least 20 years of closing prices\n",
    "\n",
    "### HINTS:\n",
    "There are 252 trading days per year, so the number of records to generate for each Monte Carlo run will be 252 days * 20 years"
   ]
  },
  {
   "cell_type": "code",
   "execution_count": 9,
   "metadata": {},
   "outputs": [
    {
     "data": {
      "text/html": [
       "<div>\n",
       "<style scoped>\n",
       "    .dataframe tbody tr th:only-of-type {\n",
       "        vertical-align: middle;\n",
       "    }\n",
       "\n",
       "    .dataframe tbody tr th {\n",
       "        vertical-align: top;\n",
       "    }\n",
       "\n",
       "    .dataframe thead tr th {\n",
       "        text-align: left;\n",
       "    }\n",
       "\n",
       "    .dataframe thead tr:last-of-type th {\n",
       "        text-align: right;\n",
       "    }\n",
       "</style>\n",
       "<table border=\"1\" class=\"dataframe\">\n",
       "  <thead>\n",
       "    <tr>\n",
       "      <th></th>\n",
       "      <th>SPY</th>\n",
       "      <th>AGG</th>\n",
       "    </tr>\n",
       "    <tr>\n",
       "      <th></th>\n",
       "      <th>close</th>\n",
       "      <th>close</th>\n",
       "    </tr>\n",
       "    <tr>\n",
       "      <th>date</th>\n",
       "      <th></th>\n",
       "      <th></th>\n",
       "    </tr>\n",
       "  </thead>\n",
       "  <tbody>\n",
       "    <tr>\n",
       "      <th>2014-08-27</th>\n",
       "      <td>NaN</td>\n",
       "      <td>NaN</td>\n",
       "    </tr>\n",
       "    <tr>\n",
       "      <th>2014-08-28</th>\n",
       "      <td>-0.000549</td>\n",
       "      <td>0.002004</td>\n",
       "    </tr>\n",
       "    <tr>\n",
       "      <th>2014-08-29</th>\n",
       "      <td>0.002848</td>\n",
       "      <td>-0.000364</td>\n",
       "    </tr>\n",
       "    <tr>\n",
       "      <th>2014-09-02</th>\n",
       "      <td>-0.000498</td>\n",
       "      <td>-0.004819</td>\n",
       "    </tr>\n",
       "    <tr>\n",
       "      <th>2014-09-03</th>\n",
       "      <td>-0.000548</td>\n",
       "      <td>0.001096</td>\n",
       "    </tr>\n",
       "  </tbody>\n",
       "</table>\n",
       "</div>"
      ],
      "text/plain": [
       "                 SPY       AGG\n",
       "               close     close\n",
       "date                          \n",
       "2014-08-27       NaN       NaN\n",
       "2014-08-28 -0.000549  0.002004\n",
       "2014-08-29  0.002848 -0.000364\n",
       "2014-09-02 -0.000498 -0.004819\n",
       "2014-09-03 -0.000548  0.001096"
      ]
     },
     "execution_count": 9,
     "metadata": {},
     "output_type": "execute_result"
    }
   ],
   "source": [
    "# Calculate the daily returns for SPY and AGG\n",
    "daily_returns = df.pct_change()\n",
    "daily_returns.head()"
   ]
  },
  {
   "cell_type": "code",
   "execution_count": 12,
   "metadata": {},
   "outputs": [
    {
     "name": "stdout",
     "output_type": "stream",
     "text": [
      "Average daily returns of SPY: 0.0003179221939699189\n",
      "Average daily returns of AGG: 3.0368344567238868e-05\n"
     ]
    }
   ],
   "source": [
    "# Calculate the value of Average Daily Returns\n",
    "avg_daily_returns_spy = daily_returns.mean()['SPY']['close']\n",
    "avg_daily_returns_agg = daily_returns.mean()['AGG']['close']\n",
    "print(f\"Average daily returns of SPY: {avg_daily_returns_spy}\")\n",
    "print(f\"Average daily returns of AGG: {avg_daily_returns_agg}\")"
   ]
  },
  {
   "cell_type": "code",
   "execution_count": 17,
   "metadata": {},
   "outputs": [
    {
     "name": "stdout",
     "output_type": "stream",
     "text": [
      "SPY standard deviation of daily returns: 0.008632008730538526\n",
      "AGG standard deviation of daily returns: 0.002009934552025007\n"
     ]
    }
   ],
   "source": [
    "# Calculate volatility\n",
    "std_daily_returns_spy = daily_returns.std()['SPY']['close']\n",
    "std_daily_returns_agg = daily_returns.std()['AGG']['close']\n",
    "print(f\"SPY standard deviation of daily returns: {std_daily_returns_spy}\")\n",
    "print(f\"AGG standard deviation of daily returns: {std_daily_returns_agg}\")"
   ]
  },
  {
   "cell_type": "code",
   "execution_count": 20,
   "metadata": {},
   "outputs": [],
   "source": [
    "# Save the last day's closing price\n",
    "spy_last_price = df['SPY']['close'][-1]\n",
    "agg_last_price = df['AGG']['close'][-1]"
   ]
  },
  {
   "cell_type": "code",
   "execution_count": 83,
   "metadata": {},
   "outputs": [],
   "source": [
    "# Setup the Monte Carlo Parameters\n",
    "number_simulations = 500\n",
    "number_of_trading_days = 252 * 30\n",
    "monte_carlo_simulated_prices = pd.DataFrame()\n",
    "portfolio_cumulative_returns = pd.DataFrame()\n",
    "simulation = 0"
   ]
  },
  {
   "cell_type": "code",
   "execution_count": 84,
   "metadata": {},
   "outputs": [
    {
     "data": {
      "text/html": [
       "<div>\n",
       "<style scoped>\n",
       "    .dataframe tbody tr th:only-of-type {\n",
       "        vertical-align: middle;\n",
       "    }\n",
       "\n",
       "    .dataframe tbody tr th {\n",
       "        vertical-align: top;\n",
       "    }\n",
       "\n",
       "    .dataframe thead th {\n",
       "        text-align: right;\n",
       "    }\n",
       "</style>\n",
       "<table border=\"1\" class=\"dataframe\">\n",
       "  <thead>\n",
       "    <tr style=\"text-align: right;\">\n",
       "      <th></th>\n",
       "      <th>1</th>\n",
       "      <th>2</th>\n",
       "      <th>3</th>\n",
       "      <th>4</th>\n",
       "      <th>5</th>\n",
       "      <th>6</th>\n",
       "      <th>7</th>\n",
       "      <th>8</th>\n",
       "      <th>9</th>\n",
       "      <th>10</th>\n",
       "      <th>...</th>\n",
       "      <th>491</th>\n",
       "      <th>492</th>\n",
       "      <th>493</th>\n",
       "      <th>494</th>\n",
       "      <th>495</th>\n",
       "      <th>496</th>\n",
       "      <th>497</th>\n",
       "      <th>498</th>\n",
       "      <th>499</th>\n",
       "      <th>500</th>\n",
       "    </tr>\n",
       "  </thead>\n",
       "  <tbody>\n",
       "    <tr>\n",
       "      <th>0</th>\n",
       "      <td>1.000000</td>\n",
       "      <td>1.000000</td>\n",
       "      <td>1.000000</td>\n",
       "      <td>1.000000</td>\n",
       "      <td>1.000000</td>\n",
       "      <td>1.000000</td>\n",
       "      <td>1.000000</td>\n",
       "      <td>1.000000</td>\n",
       "      <td>1.000000</td>\n",
       "      <td>1.000000</td>\n",
       "      <td>...</td>\n",
       "      <td>1.000000</td>\n",
       "      <td>1.000000</td>\n",
       "      <td>1.000000</td>\n",
       "      <td>1.000000</td>\n",
       "      <td>1.000000</td>\n",
       "      <td>1.000000</td>\n",
       "      <td>1.000000</td>\n",
       "      <td>1.000000</td>\n",
       "      <td>1.000000</td>\n",
       "      <td>1.000000</td>\n",
       "    </tr>\n",
       "    <tr>\n",
       "      <th>1</th>\n",
       "      <td>0.999919</td>\n",
       "      <td>0.991422</td>\n",
       "      <td>1.000232</td>\n",
       "      <td>1.007521</td>\n",
       "      <td>0.999774</td>\n",
       "      <td>1.001572</td>\n",
       "      <td>0.995337</td>\n",
       "      <td>0.995107</td>\n",
       "      <td>0.992924</td>\n",
       "      <td>0.995281</td>\n",
       "      <td>...</td>\n",
       "      <td>1.005035</td>\n",
       "      <td>0.999692</td>\n",
       "      <td>1.008041</td>\n",
       "      <td>1.001288</td>\n",
       "      <td>1.004390</td>\n",
       "      <td>0.993724</td>\n",
       "      <td>1.004011</td>\n",
       "      <td>0.998768</td>\n",
       "      <td>1.002377</td>\n",
       "      <td>0.999662</td>\n",
       "    </tr>\n",
       "    <tr>\n",
       "      <th>2</th>\n",
       "      <td>0.997128</td>\n",
       "      <td>1.001909</td>\n",
       "      <td>0.992193</td>\n",
       "      <td>1.005455</td>\n",
       "      <td>0.999605</td>\n",
       "      <td>1.005873</td>\n",
       "      <td>1.002524</td>\n",
       "      <td>0.994378</td>\n",
       "      <td>0.993050</td>\n",
       "      <td>1.002218</td>\n",
       "      <td>...</td>\n",
       "      <td>0.999396</td>\n",
       "      <td>0.996159</td>\n",
       "      <td>1.007009</td>\n",
       "      <td>0.995395</td>\n",
       "      <td>1.012400</td>\n",
       "      <td>0.993503</td>\n",
       "      <td>1.008359</td>\n",
       "      <td>1.004952</td>\n",
       "      <td>0.997668</td>\n",
       "      <td>0.997702</td>\n",
       "    </tr>\n",
       "    <tr>\n",
       "      <th>3</th>\n",
       "      <td>1.000192</td>\n",
       "      <td>1.007349</td>\n",
       "      <td>0.994590</td>\n",
       "      <td>1.000948</td>\n",
       "      <td>1.003834</td>\n",
       "      <td>1.014976</td>\n",
       "      <td>1.002773</td>\n",
       "      <td>0.990571</td>\n",
       "      <td>0.990996</td>\n",
       "      <td>1.007869</td>\n",
       "      <td>...</td>\n",
       "      <td>0.997784</td>\n",
       "      <td>0.997178</td>\n",
       "      <td>1.005349</td>\n",
       "      <td>0.996140</td>\n",
       "      <td>1.010609</td>\n",
       "      <td>0.989186</td>\n",
       "      <td>1.010795</td>\n",
       "      <td>1.005582</td>\n",
       "      <td>1.000140</td>\n",
       "      <td>0.990935</td>\n",
       "    </tr>\n",
       "    <tr>\n",
       "      <th>4</th>\n",
       "      <td>1.006656</td>\n",
       "      <td>1.015870</td>\n",
       "      <td>0.991995</td>\n",
       "      <td>0.994328</td>\n",
       "      <td>1.005392</td>\n",
       "      <td>1.011235</td>\n",
       "      <td>1.002797</td>\n",
       "      <td>0.987609</td>\n",
       "      <td>0.992492</td>\n",
       "      <td>1.010019</td>\n",
       "      <td>...</td>\n",
       "      <td>0.998000</td>\n",
       "      <td>0.999242</td>\n",
       "      <td>1.010404</td>\n",
       "      <td>0.991849</td>\n",
       "      <td>1.008614</td>\n",
       "      <td>0.986115</td>\n",
       "      <td>1.015709</td>\n",
       "      <td>1.006455</td>\n",
       "      <td>1.002320</td>\n",
       "      <td>0.993394</td>\n",
       "    </tr>\n",
       "  </tbody>\n",
       "</table>\n",
       "<p>5 rows × 500 columns</p>\n",
       "</div>"
      ],
      "text/plain": [
       "        1         2         3         4         5         6         7    \\\n",
       "0  1.000000  1.000000  1.000000  1.000000  1.000000  1.000000  1.000000   \n",
       "1  0.999919  0.991422  1.000232  1.007521  0.999774  1.001572  0.995337   \n",
       "2  0.997128  1.001909  0.992193  1.005455  0.999605  1.005873  1.002524   \n",
       "3  1.000192  1.007349  0.994590  1.000948  1.003834  1.014976  1.002773   \n",
       "4  1.006656  1.015870  0.991995  0.994328  1.005392  1.011235  1.002797   \n",
       "\n",
       "        8         9         10   ...       491       492       493       494  \\\n",
       "0  1.000000  1.000000  1.000000  ...  1.000000  1.000000  1.000000  1.000000   \n",
       "1  0.995107  0.992924  0.995281  ...  1.005035  0.999692  1.008041  1.001288   \n",
       "2  0.994378  0.993050  1.002218  ...  0.999396  0.996159  1.007009  0.995395   \n",
       "3  0.990571  0.990996  1.007869  ...  0.997784  0.997178  1.005349  0.996140   \n",
       "4  0.987609  0.992492  1.010019  ...  0.998000  0.999242  1.010404  0.991849   \n",
       "\n",
       "        495       496       497       498       499       500  \n",
       "0  1.000000  1.000000  1.000000  1.000000  1.000000  1.000000  \n",
       "1  1.004390  0.993724  1.004011  0.998768  1.002377  0.999662  \n",
       "2  1.012400  0.993503  1.008359  1.004952  0.997668  0.997702  \n",
       "3  1.010609  0.989186  1.010795  1.005582  1.000140  0.990935  \n",
       "4  1.008614  0.986115  1.015709  1.006455  1.002320  0.993394  \n",
       "\n",
       "[5 rows x 500 columns]"
      ]
     },
     "execution_count": 84,
     "metadata": {},
     "output_type": "execute_result"
    }
   ],
   "source": [
    "# Run the Monte Carlo Simulation\n",
    "for x in range(number_simulations):\n",
    "    simulated_spy_prices = [spy_last_price]\n",
    "    simulated_agg_prices = [agg_last_price]\n",
    "    simulation += 1\n",
    "    for i in range(number_of_trading_days):\n",
    "        simulated_spy_price = simulated_spy_prices[-1] * (1 + np.random.normal(avg_daily_returns_spy, std_daily_returns_spy))\n",
    "        simulated_agg_price = simulated_agg_prices[-1] * (1 + np.random.normal(avg_daily_returns_agg, std_daily_returns_agg))\n",
    "        \n",
    "        simulated_spy_prices.append(simulated_spy_price)\n",
    "        simulated_agg_prices.append(simulated_agg_price)\n",
    "    \n",
    "    monte_carlo_simulated_prices['SPY prices'] = pd.Series(simulated_spy_prices)\n",
    "    monte_carlo_simulated_prices['AGG prices'] = pd.Series(simulated_agg_prices)\n",
    "    \n",
    "    simulated_daily_returns = monte_carlo_simulated_prices.pct_change()\n",
    "    \n",
    "    weights = [0.60,0.40]\n",
    "    \n",
    "    portfolio_daily_returns = simulated_daily_returns.dot(weights)\n",
    "    \n",
    "    portfolio_cumulative_returns[simulation] = (1 + portfolio_daily_returns.fillna(0)).cumprod()\n",
    " \n",
    "portfolio_cumulative_returns.head()\n",
    "\n",
    "    \n",
    "    "
   ]
  },
  {
   "cell_type": "code",
   "execution_count": 85,
   "metadata": {},
   "outputs": [
    {
     "data": {
      "text/plain": [
       "<matplotlib.axes._subplots.AxesSubplot at 0x1d635ad3eb8>"
      ]
     },
     "execution_count": 85,
     "metadata": {},
     "output_type": "execute_result"
    },
    {
     "data": {
      "image/png": "[encoded data removed]",
      "text/plain": [
       "<Figure size 432x288 with 1 Axes>"
      ]
     },
     "metadata": {
      "needs_background": "light"
     },
     "output_type": "display_data"
    }
   ],
   "source": [
    "# Visualize the Simulation\n",
    "plot_title = f\"{simulation} Simulations of Cumulative Portfolio Return Trajectories Over the Next 30 Years\"\n",
    "portfolio_cumulative_returns.plot(legend = None, title = plot_title)\n"
   ]
  },
  {
   "cell_type": "code",
   "execution_count": 86,
   "metadata": {},
   "outputs": [
    {
     "data": {
      "text/plain": [
       "1    3.254571\n",
       "2    6.686574\n",
       "3    3.881902\n",
       "4    3.573229\n",
       "5    2.845605\n",
       "Name: 7560, dtype: float64"
      ]
     },
     "execution_count": 86,
     "metadata": {},
     "output_type": "execute_result"
    }
   ],
   "source": [
    "# Select the last row for the cumulative returns (cumulative returns at 30 years)\n",
    "ending_cumulative_returns_30_years = portfolio_cumulative_returns.iloc[-1,:]\n",
    "ending_cumulative_returns_30_years.head()"
   ]
  },
  {
   "cell_type": "code",
   "execution_count": 87,
   "metadata": {},
   "outputs": [
    {
     "data": {
      "text/plain": [
       "1    2.785600\n",
       "2    2.633819\n",
       "3    2.590310\n",
       "4    2.914704\n",
       "5    2.441658\n",
       "Name: 3910, dtype: float64"
      ]
     },
     "execution_count": 87,
     "metadata": {},
     "output_type": "execute_result"
    }
   ],
   "source": [
    "# Select the last row for the cumulative returns (cumulative returns at 20 years)\n",
    "ending_cumulative_returns_20_years = portfolio_cumulative_returns.iloc[-3651,:]\n",
    "ending_cumulative_returns_20_years.head()"
   ]
  },
  {
   "cell_type": "code",
   "execution_count": 88,
   "metadata": {},
   "outputs": [
    {
     "name": "stdout",
     "output_type": "stream",
     "text": [
      "0.05    1.219557\n",
      "0.95    3.572694\n",
      "Name: 3910, dtype: float64\n"
     ]
    }
   ],
   "source": [
    "# Display the 90% confidence interval for the ending returns at 20 years\n",
    "confidence_interval_20_years = ending_cumulative_returns_20_years.quantile(q = [0.05, 0.95])\n",
    "print(confidence_interval_20_years)"
   ]
  },
  {
   "cell_type": "code",
   "execution_count": 89,
   "metadata": {},
   "outputs": [
    {
     "name": "stdout",
     "output_type": "stream",
     "text": [
      "0.05    1.874061\n",
      "0.95    8.854868\n",
      "Name: 7560, dtype: float64\n"
     ]
    }
   ],
   "source": [
    "# Display the 90% confidence interval for the ending returns at 30 years\n",
    "confidence_interval_30_years = ending_cumulative_returns_30_years.quantile(q = [0.05, 0.95])\n",
    "print(confidence_interval_30_years)"
   ]
  },
  {
   "cell_type": "code",
   "execution_count": 90,
   "metadata": {},
   "outputs": [
    {
     "data": {
      "text/plain": [
       "<matplotlib.lines.Line2D at 0x1d63bc06710>"
      ]
     },
     "execution_count": 90,
     "metadata": {},
     "output_type": "execute_result"
    },
    {
     "data": {
      "image/png": "[encoded data removed]",
      "text/plain": [
       "<Figure size 432x288 with 1 Axes>"
      ]
     },
     "metadata": {
      "needs_background": "light"
     },
     "output_type": "display_data"
    }
   ],
   "source": [
    "# Visualize the distribution of the ending returns at 20 years\n",
    "plt.figure();\n",
    "ending_cumulative_returns_20_years.plot(kind = 'hist', density = True, bins = 10)\n",
    "plt.axvline(confidence_interval_20_years.iloc[0], color = 'r')\n",
    "plt.axvline(confidence_interval_20_years.iloc[1], color = 'r')"
   ]
  },
  {
   "cell_type": "code",
   "execution_count": 91,
   "metadata": {},
   "outputs": [
    {
     "data": {
      "text/plain": [
       "<matplotlib.lines.Line2D at 0x1d63bc25b00>"
      ]
     },
     "execution_count": 91,
     "metadata": {},
     "output_type": "execute_result"
    },
    {
     "data": {
      "image/png": "[encoded data removed]",
      "text/plain": [
       "<Figure size 432x288 with 1 Axes>"
      ]
     },
     "metadata": {
      "needs_background": "light"
     },
     "output_type": "display_data"
    }
   ],
   "source": [
    "# Visualize the distribution of the ending returns at 30 years\n",
    "plt.figure();\n",
    "ending_cumulative_returns_30_years.plot(kind = 'hist', density = True, bins = 10)\n",
    "plt.axvline(confidence_interval_30_years.iloc[0], color = 'r')\n",
    "plt.axvline(confidence_interval_30_years.iloc[1], color = 'r')"
   ]
  },
  {
   "cell_type": "markdown",
   "metadata": {},
   "source": [
    "---"
   ]
  },
  {
   "cell_type": "markdown",
   "metadata": {},
   "source": [
    "# Retirement Analysis\n",
    "\n",
    "In this section, you will use the monte carlo model to answer the following retirement planning questions:\n",
    "\n",
    "1. What are the expected cumulative returns at 30 years for the 10th, 50th, and 90th percentiles?\n",
    "2. Given an initial investment of `$20,000`, what is the expected portfolio return in dollars at the 10th, 50th, and 90th percentiles?\n",
    "3. Given the current projected annual income from the Plaid analysis, will a 4% withdraw rate from the retirement portfolio meet or exceed that value at the 10th percentile?\n",
    "4. How would a 50% increase in the initial investment amount affect the 4% retirement withdrawal?"
   ]
  },
  {
   "cell_type": "markdown",
   "metadata": {},
   "source": [
    "### What are the expected cumulative returns at 30 years for the 10th, 50th, and 90th percentiles?"
   ]
  },
  {
   "cell_type": "code",
   "execution_count": 92,
   "metadata": {},
   "outputs": [
    {
     "name": "stdout",
     "output_type": "stream",
     "text": [
      "Expected Cumulative Returns at 10th percentile: 2.415283643056255\n",
      "Expected Cumulative Returns at 50th percentile: 4.183175575764423\n",
      "Expected Cumulative Returns at 90th percentile: 7.434980120828726\n"
     ]
    }
   ],
   "source": [
    "confidence_interval_30_years_10_50_90 = ending_cumulative_returns_30_years.quantile(q = [0.10, 0.50, 0.90])\n",
    "print(f\"Expected Cumulative Returns at 10th percentile: {confidence_interval_30_years_10_50_90.iloc[0]}\")\n",
    "print(f\"Expected Cumulative Returns at 50th percentile: {confidence_interval_30_years_10_50_90.iloc[1]}\")\n",
    "print(f\"Expected Cumulative Returns at 90th percentile: {confidence_interval_30_years_10_50_90.iloc[2]}\")\n"
   ]
  },
  {
   "cell_type": "markdown",
   "metadata": {},
   "source": [
    "### Given an initial investment of `$50,000`, what is the expected portfolio return in dollars at the 10th, 50th, and 90th percentiles?"
   ]
  },
  {
   "cell_type": "code",
   "execution_count": 114,
   "metadata": {},
   "outputs": [
    {
     "name": "stdout",
     "output_type": "stream",
     "text": [
      "Expected Portfolio Return of $50,000 at the 10th percentile: $120764.18\n",
      "Expected Portfolio Return of $50,000 at the 50th percentile: $209158.78\n",
      "Expected Portfolio Return of $50,000 at the 90th percentile: $371749.01\n"
     ]
    }
   ],
   "source": [
    "expected_cumulative_return_10th_percentile = round(50000 * (confidence_interval_30_years_10_50_90.iloc[0]), 2)\n",
    "print(f\"Expected Portfolio Return of $50,000 at the 10th percentile: ${expected_cumulative_return_10th_percentile}\")\n",
    "expected_cumulative_return_50th_percentile = round(50000 * (confidence_interval_30_years_10_50_90.iloc[1]), 2)\n",
    "print(f\"Expected Portfolio Return of $50,000 at the 50th percentile: ${expected_cumulative_return_50th_percentile}\")\n",
    "expected_cumulative_return_90th_percentile = round(50000 * (confidence_interval_30_years_10_50_90.iloc[2]), 2)\n",
    "print(f\"Expected Portfolio Return of $50,000 at the 90th percentile: ${expected_cumulative_return_90th_percentile}\")\n",
    "\n"
   ]
  },
  {
   "cell_type": "markdown",
   "metadata": {},
   "source": [
    "### Given the current projected annual income from the Plaid analysis, will a 4% withdraw rate from the retirement portfolio meet or exceed that value at the 10th percentile?\n",
    "\n",
    "Note: This is effectively saying that 90% of the expected returns will be greater than the return at the 10th percentile, so this can help measure the uncertainty about having enough funds at retirement"
   ]
  },
  {
   "cell_type": "code",
   "execution_count": 98,
   "metadata": {},
   "outputs": [
    {
     "name": "stdout",
     "output_type": "stream",
     "text": [
      " Income assuming a 4% withdrawal rate at 10th percentile: $4830.57\n"
     ]
    }
   ],
   "source": [
    "withdrawal_rate = 0.04\n",
    "income_at_10th_percentile = round(expected_cumulative_return_10th_percentile * withdrawal_rate, 2)\n",
    "print(f\" Income assuming a 4% withdrawal rate at 10th percentile: ${income_at_10th_percentile}\")"
   ]
  },
  {
   "cell_type": "markdown",
   "metadata": {},
   "source": [
    "### How would a 50% increase in the initial investment amount affect the 4% retirement withdrawal?"
   ]
  },
  {
   "cell_type": "code",
   "execution_count": 101,
   "metadata": {},
   "outputs": [
    {
     "name": "stdout",
     "output_type": "stream",
     "text": [
      "Income assuming 4% withdrawal rate with $75k initial investment: $7245.8508\n"
     ]
    }
   ],
   "source": [
    "expected_portfolio_return_75k_10th_percentile = round(75000 * (confidence_interval_30_years_10_50_90.iloc[0]), 2)\n",
    "income_at_10th_percentile_75k = expected_portfolio_return_75k_10th_percentile * withdrawal_rate\n",
    "print(f\"Income assuming 4% withdrawal rate with $75k initial investment: ${income_at_10th_percentile_75k}\")\n",
    "\n"
   ]
  },
  {
   "cell_type": "markdown",
   "metadata": {},
   "source": [
    "### Optional Challenge\n",
    "\n",
    "In this section, you will calculate and plot the cumulative returns for the median and 90% confidence intervals. This plot shows the expected cumulative returns for any given day between the first day and the last day of investment. "
   ]
  },
  {
   "cell_type": "code",
   "execution_count": 165,
   "metadata": {},
   "outputs": [
    {
     "data": {
      "text/plain": [
       "<matplotlib.axes._subplots.AxesSubplot at 0x1d6527a2080>"
      ]
     },
     "execution_count": 165,
     "metadata": {},
     "output_type": "execute_result"
    },
    {
     "data": {
      "image/png": "[encoded data removed]",
      "text/plain": [
       "<Figure size 432x288 with 1 Axes>"
      ]
     },
     "metadata": {
      "needs_background": "light"
     },
     "output_type": "display_data"
    }
   ],
   "source": [
    "\n",
    "quantiled_day = 0\n",
    "list_of_quantiled_days_5th = []\n",
    "list_of_quantiled_days_50th = []\n",
    "list_of_quantiled_days_95th = []\n",
    "for index, row in portfolio_cumulative_returns.iterrows():\n",
    "    quantiled_day_5th = row.quantile(q = 0.05) * 50000\n",
    "    quantiled_day_50th = row.quantile(q = 0.50) * 50000\n",
    "    quantiled_day_95th = row.quantile(q = 0.95) * 50000\n",
    "    list_of_quantiled_days_5th.append(quantiled_day_5th)\n",
    "    list_of_quantiled_days_50th.append(quantiled_day_50th)\n",
    "    list_of_quantiled_days_95th.append(quantiled_day_95th)\n",
    "cumulative_returns_5th_percentile = pd.Series(list_of_quantiled_days_5th)\n",
    "cumulative_returns_50th_percentile = pd.Series(list_of_quantiled_days_50th)\n",
    "cumulative_returns_95th_percentile = pd.Series(list_of_quantiled_days_95th)\n",
    "cumulative_returns_5th_50th_95th_percentile_df = pd.concat([cumulative_returns_5th_percentile,cumulative_returns_50th_percentile,cumulative_returns_95th_percentile], axis = 1)\n",
    "cumulative_returns_5th_50th_95th_percentile_df.rename(columns = {0:'0.05', 1:'0.50', 2:'0.95'}, inplace = True)\n",
    "cumulative_returns_5th_50th_95th_percentile_df.plot()\n"
   ]
  },
  {
   "cell_type": "code",
   "execution_count": null,
   "metadata": {},
   "outputs": [],
   "source": []
  }
 ],
 "metadata": {
  "kernel_info": {
   "name": "dev"
  },
  "kernelspec": {
   "display_name": "Python 3",
   "language": "python",
   "name": "python3"
  },
  "language_info": {
   "codemirror_mode": {
    "name": "ipython",
    "version": 3
   },
   "file_extension": ".py",
   "mimetype": "text/x-python",
   "name": "python",
   "nbconvert_exporter": "python",
   "pygments_lexer": "ipython3",
   "version": "3.7.3"
  },
  "nteract": {
   "version": "0.12.3"
  }
 },
 "nbformat": 4,
 "nbformat_minor": 4
}
